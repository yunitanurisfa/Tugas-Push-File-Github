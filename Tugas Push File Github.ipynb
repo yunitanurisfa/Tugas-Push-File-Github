{
 "cells": [
  {
   "cell_type": "markdown",
   "id": "2c4d2fb0",
   "metadata": {},
   "source": [
    "# Tugas Push File Github"
   ]
  },
  {
   "cell_type": "markdown",
   "id": "93cde51a",
   "metadata": {},
   "source": [
    "Nama : Yunita Nurisfa Maya Sakti"
   ]
  },
  {
   "cell_type": "markdown",
   "id": "f6fb90b8",
   "metadata": {},
   "source": [
    "Kelas : Visioner"
   ]
  },
  {
   "cell_type": "markdown",
   "id": "4c15c5d2",
   "metadata": {},
   "source": [
    "Universitas : Universitas AMIKOM Yogyakarta"
   ]
  }
 ],
 "metadata": {
  "kernelspec": {
   "display_name": "Python 3",
   "language": "python",
   "name": "python3"
  },
  "language_info": {
   "codemirror_mode": {
    "name": "ipython",
    "version": 3
   },
   "file_extension": ".py",
   "mimetype": "text/x-python",
   "name": "python",
   "nbconvert_exporter": "python",
   "pygments_lexer": "ipython3",
   "version": "3.8.8"
  }
 },
 "nbformat": 4,
 "nbformat_minor": 5
}
